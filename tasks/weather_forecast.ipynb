{
 "cells": [
  {
   "cell_type": "code",
   "execution_count": 4,
   "id": "098f6617",
   "metadata": {},
   "outputs": [
    {
     "name": "stdout",
     "output_type": "stream",
     "text": [
      "Enter city name or zip code: michigan\n",
      "Weather Forecast:\n",
      "Temperature: 17.04°C\n",
      "Humidity: 45%\n",
      "Wind Speed: 4.63 m/s\n",
      "Description: clear sky\n"
     ]
    }
   ],
   "source": [
    "import requests\n",
    "\n",
    "class WeatherForecast:\n",
    "    def __init__(self, api_key):\n",
    "        self.api_key = api_key\n",
    "        self.base_url = \"https://api.openweathermap.org/data/2.5/weather\"\n",
    "\n",
    "    def get_weather_data(self, query):\n",
    "        params = {\n",
    "            \"q\": query,\n",
    "            \"appid\": self.api_key,\n",
    "            \"units\": \"metric\"  # You can adjust units as needed\n",
    "        }\n",
    "        response = requests.get(self.base_url, params=params)\n",
    "        return response.json()\n",
    "\n",
    "    def display_weather(self, data):\n",
    "        temperature = data['main']['temp']\n",
    "        humidity = data['main']['humidity']\n",
    "        wind_speed = data['wind']['speed']\n",
    "        description = data['weather'][0]['description']\n",
    "\n",
    "        print(\"Weather Forecast:\")\n",
    "        print(f\"Temperature: {temperature}°C\")\n",
    "        print(f\"Humidity: {humidity}%\")\n",
    "        print(f\"Wind Speed: {wind_speed} m/s\")\n",
    "        print(f\"Description: {description}\")\n",
    "\n",
    "def main():\n",
    "    api_key ='40bb0538e3c011678c5c608a12dee011'# Replace with your actual API key\n",
    "    weather_app = WeatherForecast(api_key)\n",
    "\n",
    "    user_input = input(\"Enter city name or zip code: \")\n",
    "    weather_data = weather_app.get_weather_data(user_input)\n",
    "\n",
    "    \n",
    "    if 'main' in weather_data:\n",
    "        weather_app.display_weather(weather_data)\n",
    "    else:\n",
    "        print(\"Weather data not available.\")\n",
    "\n",
    "if __name__ == \"__main__\":\n",
    "    main()"
   ]
  },
  {
   "cell_type": "code",
   "execution_count": null,
   "id": "994754ac",
   "metadata": {},
   "outputs": [],
   "source": []
  },
  {
   "cell_type": "code",
   "execution_count": null,
   "id": "1bd39bfb",
   "metadata": {},
   "outputs": [],
   "source": []
  }
 ],
 "metadata": {
  "kernelspec": {
   "display_name": "Python 3 (ipykernel)",
   "language": "python",
   "name": "python3"
  },
  "language_info": {
   "codemirror_mode": {
    "name": "ipython",
    "version": 3
   },
   "file_extension": ".py",
   "mimetype": "text/x-python",
   "name": "python",
   "nbconvert_exporter": "python",
   "pygments_lexer": "ipython3",
   "version": "3.10.9"
  }
 },
 "nbformat": 4,
 "nbformat_minor": 5
}
